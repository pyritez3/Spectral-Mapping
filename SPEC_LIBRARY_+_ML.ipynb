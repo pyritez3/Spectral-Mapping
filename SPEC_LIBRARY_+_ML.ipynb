{
  "cells": [
    {
      "cell_type": "code",
      "execution_count": null,
      "id": "82044ae5",
      "metadata": {
        "id": "82044ae5"
      },
      "outputs": [],
      "source": [
        "!pip install xgboost"
      ]
    },
    {
      "cell_type": "code",
      "execution_count": null,
      "id": "222d03ea",
      "metadata": {
        "id": "222d03ea"
      },
      "outputs": [],
      "source": [
        "import spectral\n",
        "import matplotlib.pyplot as plt\n",
        "import numpy as np\n",
        "import spectral.io.aviris as aviris\n",
        "import pandas as pd\n",
        "import pysptools.eea as eea\n",
        "import pysptools.noise as noise\n",
        "import pandas as pd\n",
        "import os\n",
        "\n",
        "import pandas as pd\n",
        "from sklearn.model_selection import train_test_split\n",
        "from sklearn.preprocessing import LabelEncoder\n",
        "from sklearn.preprocessing import StandardScaler\n",
        "from sklearn.svm import SVC\n",
        "from sklearn.metrics import accuracy_score,classification_report\n",
        "from sklearn.neighbors import KNeighborsClassifier\n",
        "\n",
        "from sklearn.ensemble import RandomForestClassifier\n",
        "\n",
        "from xgboost import XGBClassifier"
      ]
    },
    {
      "cell_type": "code",
      "execution_count": null,
      "id": "9b3f40ff",
      "metadata": {
        "id": "9b3f40ff"
      },
      "outputs": [],
      "source": [
        "img = aviris.open(\"spectral file\")"
      ]
    },
    {
      "cell_type": "code",
      "execution_count": null,
      "id": "e448971f",
      "metadata": {
        "id": "e448971f"
      },
      "outputs": [],
      "source": [
        "img"
      ]
    },
    {
      "cell_type": "markdown",
      "id": "2e95c7fd",
      "metadata": {
        "id": "2e95c7fd"
      },
      "source": [
        "# PURE PIXEL EXTRACTION"
      ]
    },
    {
      "cell_type": "code",
      "execution_count": null,
      "id": "ce783de0",
      "metadata": {
        "id": "ce783de0"
      },
      "outputs": [],
      "source": [
        "img_data=img.load()\n",
        "\n",
        "np.set_printoptions(threshold=np.inf, linewidth=140)\n",
        "\n",
        "img_2d=img_data.reshape((img_data.shape[0]*img_data.shape[1]), img_data.shape[2])"
      ]
    },
    {
      "cell_type": "code",
      "execution_count": null,
      "id": "c5a08559",
      "metadata": {
        "id": "c5a08559"
      },
      "outputs": [],
      "source": [
        "[purepixels,bands]=eea.eea.PPI(img_2d,10,10)"
      ]
    },
    {
      "cell_type": "code",
      "execution_count": null,
      "id": "d0f61186",
      "metadata": {
        "id": "d0f61186"
      },
      "outputs": [],
      "source": [
        "bands"
      ]
    },
    {
      "cell_type": "markdown",
      "id": "b5429caa",
      "metadata": {
        "id": "b5429caa"
      },
      "source": [
        "# WAVELENGTH EXTRACTION OF PPI"
      ]
    },
    {
      "cell_type": "code",
      "execution_count": null,
      "id": "682b714e",
      "metadata": {
        "id": "682b714e"
      },
      "outputs": [],
      "source": [
        "file_path = 'spectral file'"
      ]
    },
    {
      "cell_type": "code",
      "execution_count": null,
      "id": "4cb1cf86",
      "metadata": {
        "id": "4cb1cf86"
      },
      "outputs": [],
      "source": [
        "column_names =['wavelength_center_position','fwhm_equivalent_gaussian','Uncertainty in wavelength center position',\n",
        "                           'Uncertainty in FWHM for equivalent gaussian',\n",
        "                           'channel_number']"
      ]
    },
    {
      "cell_type": "code",
      "execution_count": null,
      "id": "5435bddf",
      "metadata": {
        "id": "5435bddf"
      },
      "outputs": [],
      "source": [
        "df_wav_ppi = pd.read_csv(file_path, delimiter='\\t', header=None, names=column_names)"
      ]
    },
    {
      "cell_type": "code",
      "execution_count": null,
      "id": "af580f76",
      "metadata": {
        "id": "af580f76"
      },
      "outputs": [],
      "source": [
        "wavelength=[]\n",
        "wavelength = df_wav_ppi.wavelength_center_position"
      ]
    },
    {
      "cell_type": "code",
      "execution_count": null,
      "id": "0bc726d3",
      "metadata": {
        "id": "0bc726d3"
      },
      "outputs": [],
      "source": [
        "len(wavelength)"
      ]
    },
    {
      "cell_type": "code",
      "execution_count": null,
      "id": "48dc8351",
      "metadata": {
        "id": "48dc8351"
      },
      "outputs": [],
      "source": [
        "wavelength[:10]"
      ]
    },
    {
      "cell_type": "code",
      "execution_count": null,
      "id": "c9a45d90",
      "metadata": {
        "id": "c9a45d90"
      },
      "outputs": [],
      "source": [
        "max_ppi,min_ppi=max(wavelength),min(wavelength)"
      ]
    },
    {
      "cell_type": "code",
      "execution_count": null,
      "id": "6439011f",
      "metadata": {
        "id": "6439011f"
      },
      "outputs": [],
      "source": [
        "print(max_ppi)\n",
        "print(min_ppi)"
      ]
    },
    {
      "cell_type": "code",
      "execution_count": null,
      "id": "44d48119",
      "metadata": {
        "id": "44d48119"
      },
      "outputs": [],
      "source": [
        "ppi_wavelen=[]\n",
        "for wave in wavelength:\n",
        "    we=float(round(wave))\n",
        "    ppi_wavelen.append(we)\n",
        "wave_spec= pd.DataFrame({'wavelength':ppi_wavelen})"
      ]
    },
    {
      "cell_type": "markdown",
      "id": "ca76555d",
      "metadata": {
        "id": "ca76555d"
      },
      "source": [
        "# PPI DATAFRAME"
      ]
    },
    {
      "cell_type": "code",
      "execution_count": null,
      "id": "c3d0dbc1",
      "metadata": {
        "id": "c3d0dbc1"
      },
      "outputs": [],
      "source": [
        "bands"
      ]
    },
    {
      "cell_type": "code",
      "execution_count": null,
      "id": "4676b91f",
      "metadata": {
        "id": "4676b91f"
      },
      "outputs": [],
      "source": [
        "def read_and_process_file(file_path, wave_spec):\n",
        "    data = []\n",
        "    with open(file_path, 'r') as file:\n",
        "        for line in file:\n",
        "            if line.strip():\n",
        "                if \"Name: \" in line:\n",
        "                    name_value = line.split(\"Name: \")[1].strip()\n",
        "                elif \"Class: \" in line:\n",
        "                    class_value = line.split(\"Class: \")[1].strip()\n",
        "                elif len(line.split()) == 2 and all(value.replace('.', '').isdigit() for value in line.split()):\n",
        "\n",
        "                    data.append([float(value) for value in line.split()])\n",
        "\n",
        "    df = pd.DataFrame(data, columns=['wavelength', f'reflectance#{class_value}#{name_value}'])\n",
        "    df['wavelength'] = pd.to_numeric(df['wavelength'], errors='coerce') * 1000\n",
        "    df[f'reflectance#{class_value}#{name_value}'] = pd.to_numeric(df[f'reflectance#{class_value}#{name_value}'], errors='coerce')\n",
        "    return df[df['wavelength'].isin(wave_spec['wavelength']) == True]\n"
      ]
    },
    {
      "cell_type": "code",
      "execution_count": null,
      "id": "cb27ae6f",
      "metadata": {
        "id": "cb27ae6f"
      },
      "outputs": [],
      "source": [
        "def merge_files_into_dataframe(directory, wave_spec):\n",
        "    dfs = pd.DataFrame({'wavelength': wave_spec['wavelength']})\n",
        "\n",
        "    for filename in os.listdir(directory):\n",
        "        if filename.endswith('.spectrum.txt'):\n",
        "            file_path = os.path.join(directory, filename)\n",
        "            df = read_and_process_file(file_path, wave_spec)\n",
        "            dfs = pd.merge(dfs, df, on='wavelength', how='left')\n",
        "\n",
        "    return dfs"
      ]
    },
    {
      "cell_type": "code",
      "execution_count": null,
      "id": "0b1b7879",
      "metadata": {
        "id": "0b1b7879"
      },
      "outputs": [],
      "source": [
        "directory = 'output'\n",
        "result_dataframe = merge_files_into_dataframe(directory, wave_spec)\n",
        "print(result_dataframe)"
      ]
    },
    {
      "cell_type": "code",
      "execution_count": null,
      "id": "502e29fd",
      "metadata": {
        "id": "502e29fd"
      },
      "outputs": [],
      "source": [
        "df_transposed = result_dataframe.transpose().reset_index()\n",
        "df_transposed.set_axis(df_transposed.iloc[0], axis=1, inplace=True)\n",
        "df_transposed = df_transposed[1:]\n",
        "df_transposed[['value', 'class', 'sub - class']] = df_transposed['wavelength'].str.split(\"#\",expand=True)\n",
        "\n",
        "columns_to_drop = ['value', 'wavelength']\n",
        "df_transposed = df_transposed.drop(columns=columns_to_drop)\n",
        "\n",
        "filtered_columns = df_transposed.columns[df_transposed.notnull().all()]\n",
        "filtered_df = df_transposed[filtered_columns]\n",
        "\n",
        "col=list(filtered_df.columns)[:-2]\n",
        "\n",
        "filtered_df['class'].value_counts()"
      ]
    },
    {
      "cell_type": "code",
      "execution_count": null,
      "id": "ca571e6e",
      "metadata": {
        "id": "ca571e6e"
      },
      "outputs": [],
      "source": [
        "filtered_df.head()"
      ]
    },
    {
      "cell_type": "code",
      "execution_count": null,
      "id": "c9fa3582",
      "metadata": {
        "id": "c9fa3582"
      },
      "outputs": [],
      "source": [
        "row_indices_to_print = list(bands) # list of ppi bands\n",
        "\n",
        "specific_rows = img_2d[row_indices_to_print,:]\n",
        "\n",
        "df_pppi = pd.DataFrame(specific_rows.T, columns=row_indices_to_print)\n",
        "\n",
        "df_pppi.insert(0, 'wavelength', ppi_wavelen) #inserting the purepixel wavelengths\n",
        "\n",
        "selected_df2 = df_pppi[df_pppi['wavelength'].isin(col)]\n",
        "\n",
        "selecteddf_t=selected_df2.T\n",
        "selecteddf_t.set_axis(selecteddf_t.iloc[0], axis=1, inplace=True)\n",
        "selecteddf_t= selecteddf_t[1:]\n",
        "\n",
        "selecteddf_t"
      ]
    },
    {
      "cell_type": "markdown",
      "id": "3d162a01",
      "metadata": {
        "id": "3d162a01"
      },
      "source": [
        "# ML Model"
      ]
    },
    {
      "cell_type": "code",
      "execution_count": null,
      "id": "9712d336",
      "metadata": {
        "id": "9712d336"
      },
      "outputs": [],
      "source": [
        "X = filtered_df.drop(['class','sub - class'], axis=1)\n",
        "y = filtered_df['class']"
      ]
    },
    {
      "cell_type": "code",
      "execution_count": null,
      "id": "8ad35590",
      "metadata": {
        "id": "8ad35590"
      },
      "outputs": [],
      "source": [
        "label_encoder = LabelEncoder()\n",
        "y = label_encoder.fit_transform(y)"
      ]
    },
    {
      "cell_type": "code",
      "execution_count": null,
      "id": "381d61ff",
      "metadata": {
        "id": "381d61ff"
      },
      "outputs": [],
      "source": [
        "#set(filtered_df['class'])\n",
        "# Use Counter to get the frequency of each element\n",
        "from collections import Counter\n",
        "frequency_counter = Counter(filtered_df['class'])\n",
        "\n",
        "# Print unique values and their frequencies\n",
        "print(\"Unique values and their frequencies:\")\n",
        "for value, frequency in frequency_counter.items():\n",
        "    print(f\"{value}: {frequency}\")"
      ]
    },
    {
      "cell_type": "code",
      "execution_count": null,
      "id": "931b827d",
      "metadata": {
        "id": "931b827d"
      },
      "outputs": [],
      "source": [
        "X_train, X_test, y_train, y_test = train_test_split(X, y, test_size=0.2, random_state=42, stratify=y)"
      ]
    },
    {
      "cell_type": "code",
      "execution_count": null,
      "id": "b4e434f3",
      "metadata": {
        "id": "b4e434f3"
      },
      "outputs": [],
      "source": [
        "scaler = StandardScaler()\n",
        "X_train = scaler.fit_transform(X_train)\n",
        "X_test = scaler.transform(X_test)"
      ]
    },
    {
      "cell_type": "code",
      "execution_count": null,
      "id": "5bc124e3",
      "metadata": {
        "id": "5bc124e3"
      },
      "outputs": [],
      "source": [
        "svm_model = SVC(kernel='linear', C=1.0, random_state=42)\n",
        "svm_model.fit(X_train, y_train)\n",
        "y_pred = svm_model.predict(X_test)"
      ]
    },
    {
      "cell_type": "code",
      "execution_count": null,
      "id": "f13852dd",
      "metadata": {
        "id": "f13852dd",
        "outputId": "9b439171-fb97-4fbc-bcf8-4b1646812c36"
      },
      "outputs": [
        {
          "name": "stdout",
          "output_type": "stream",
          "text": [
            "Accuracy: 60.47%\n"
          ]
        }
      ],
      "source": [
        "accuracy = accuracy_score(y_test, y_pred)\n",
        "print(f'Accuracy: {accuracy * 100:.2f}%')"
      ]
    },
    {
      "cell_type": "code",
      "execution_count": null,
      "id": "1e36515e",
      "metadata": {
        "id": "1e36515e"
      },
      "outputs": [],
      "source": [
        "\n",
        "# Standardize the new features using the same scaler used for training data\n",
        "X_new = scaler.transform(selecteddf_t)\n",
        "\n",
        "# Make predictions on the new data\n",
        "y_pred_new = svm_model.predict(X_new)\n",
        "\n",
        "# If you used LabelEncoder for the target variable, you might want to inverse_transform the predictions\n",
        "# to get back the original text labels\n",
        "y_pred_labels = label_encoder.inverse_transform(y_pred_new)\n",
        "\n",
        "# Display or use the predictions as needed\n",
        "print(\"Predictions on new data:\")\n",
        "print(y_pred_labels)"
      ]
    },
    {
      "cell_type": "code",
      "execution_count": null,
      "id": "4f143968",
      "metadata": {
        "id": "4f143968"
      },
      "outputs": [],
      "source": [
        "knn_model = KNeighborsClassifier(n_neighbors=12)  # You can adjust the number of neighbors\n",
        "\n",
        "# Train the KNN model\n",
        "knn_model.fit(X_train, y_train)\n",
        "\n",
        "# Make predictions on the test set\n",
        "y_pred = knn_model.predict(X_test)\n",
        "\n",
        "# Calculate accuracy\n",
        "accuracy = accuracy_score(y_test, y_pred)\n",
        "print(f'Accuracy: {accuracy * 100:.2f}%')\n",
        "\n"
      ]
    },
    {
      "cell_type": "code",
      "execution_count": null,
      "id": "cd7578b2",
      "metadata": {
        "id": "cd7578b2"
      },
      "outputs": [],
      "source": [
        "# Standardize the new features using the same scaler used for training data\n",
        "X_new = scaler.transform(selecteddf_t)\n",
        "\n",
        "# Make predictions on the new data\n",
        "y_pred_new = knn_model.predict(X_new)\n",
        "\n",
        "y_pred_labels = label_encoder.inverse_transform(y_pred_new)\n",
        "\n",
        "# Display or use the predictions as needed\n",
        "print(\"Predictions on new data:\")\n",
        "print(y_pred_labels)\n"
      ]
    },
    {
      "cell_type": "code",
      "execution_count": null,
      "id": "32afb2cb",
      "metadata": {
        "id": "32afb2cb"
      },
      "outputs": [],
      "source": [
        "# Create a Random Forest classifier\n",
        "rf_classifier = RandomForestClassifier(n_estimators=100, random_state=42)\n",
        "\n",
        "# Train the classifier on the training data\n",
        "rf_classifier.fit(X_train, y_train)\n",
        "\n",
        "# Make predictions on the test set\n",
        "y_pred = rf_classifier.predict(X_test)\n",
        "\n",
        "# Evaluate the performance of the classifier\n",
        "accuracy = accuracy_score(y_test, y_pred)\n",
        "print(f'Accuracy: {accuracy:.2f}')\n",
        "\n",
        "# Display a classification report\n",
        "print('Classification Report:')\n",
        "print(classification_report(y_test, y_pred))"
      ]
    },
    {
      "cell_type": "code",
      "execution_count": null,
      "id": "f7df4b45",
      "metadata": {
        "id": "f7df4b45"
      },
      "outputs": [],
      "source": [
        "X_new = scaler.transform(selecteddf_t)\n",
        "\n",
        "new_predictions = rf_classifier.predict(X_new)\n",
        "\n",
        "y_pred_labels = label_encoder.inverse_transform(new_predictions)\n",
        "\n",
        "# Display the predictions\n",
        "print('Predictions for the new data:')\n",
        "print(y_pred_labels)"
      ]
    },
    {
      "cell_type": "code",
      "execution_count": null,
      "id": "a46d536f",
      "metadata": {
        "id": "a46d536f"
      },
      "outputs": [],
      "source": [
        "xgb_classifier = XGBClassifier(objective='multi:softmax', num_class=len(set(y)), random_state=42)\n",
        "\n",
        "# Train the classifier on the training data\n",
        "xgb_classifier.fit(X_train, y_train)\n",
        "\n",
        "# Make predictions on the test set\n",
        "y_pred = xgb_classifier.predict(X_test)\n",
        "\n",
        "# Evaluate the performance of the classifier\n",
        "accuracy = accuracy_score(y_test, y_pred)\n",
        "print(f'Accuracy: {accuracy:.2f}')\n",
        "\n"
      ]
    },
    {
      "cell_type": "code",
      "execution_count": null,
      "id": "188f1acc",
      "metadata": {
        "id": "188f1acc"
      },
      "outputs": [],
      "source": [
        "# Display a classification report\n",
        "print('Classification Report:')\n",
        "print(classification_report(y_test, y_pred))\n",
        "\n",
        "\n"
      ]
    },
    {
      "cell_type": "code",
      "execution_count": null,
      "id": "e298bede",
      "metadata": {
        "id": "e298bede"
      },
      "outputs": [],
      "source": [
        "X_new = scaler.transform(selecteddf_t)\n",
        "\n",
        "xgb_new_predictions = xgb_classifier.predict(X_new)\n",
        "\n",
        "y_pred_labels = label_encoder.inverse_transform(xgb_new_predictions)\n",
        "\n",
        "# Display the predictions\n",
        "print('XGBoost Predictions for the new data:')\n",
        "print(y_pred_labels)"
      ]
    },
    {
      "cell_type": "code",
      "execution_count": null,
      "id": "b3518d91",
      "metadata": {
        "id": "b3518d91"
      },
      "outputs": [],
      "source": []
    }
  ],
  "metadata": {
    "kernelspec": {
      "display_name": "Python 3 (ipykernel)",
      "language": "python",
      "name": "python3"
    },
    "language_info": {
      "codemirror_mode": {
        "name": "ipython",
        "version": 3
      },
      "file_extension": ".py",
      "mimetype": "text/x-python",
      "name": "python",
      "nbconvert_exporter": "python",
      "pygments_lexer": "ipython3",
      "version": "3.11.4"
    },
    "colab": {
      "provenance": []
    }
  },
  "nbformat": 4,
  "nbformat_minor": 5
}