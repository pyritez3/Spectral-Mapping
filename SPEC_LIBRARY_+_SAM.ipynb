{
  "cells": [
    {
      "cell_type": "code",
      "execution_count": null,
      "id": "222d03ea",
      "metadata": {
        "id": "222d03ea"
      },
      "outputs": [],
      "source": [
        "import spectral\n",
        "import matplotlib.pyplot as plt\n",
        "import numpy as np\n",
        "import spectral.io.aviris as aviris\n",
        "import pandas as pd\n",
        "import pysptools.eea as eea\n",
        "import pysptools.noise as noise\n",
        "import pandas as pd\n",
        "import os"
      ]
    },
    {
      "cell_type": "code",
      "execution_count": null,
      "id": "9b3f40ff",
      "metadata": {
        "id": "9b3f40ff"
      },
      "outputs": [],
      "source": [
        "img = aviris.open(\"spectal file\")"
      ]
    },
    {
      "cell_type": "code",
      "execution_count": null,
      "id": "e448971f",
      "metadata": {
        "id": "e448971f"
      },
      "outputs": [],
      "source": [
        "img"
      ]
    },
    {
      "cell_type": "markdown",
      "id": "2e95c7fd",
      "metadata": {
        "id": "2e95c7fd"
      },
      "source": [
        "# PURE PIXEL EXTRACTION"
      ]
    },
    {
      "cell_type": "code",
      "execution_count": null,
      "id": "ce783de0",
      "metadata": {
        "id": "ce783de0"
      },
      "outputs": [],
      "source": [
        "img_data=img.load()\n",
        "\n",
        "np.set_printoptions(threshold=np.inf, linewidth=140)\n",
        "\n",
        "img_2d=img_data.reshape((img_data.shape[0]*img_data.shape[1]), img_data.shape[2])"
      ]
    },
    {
      "cell_type": "code",
      "execution_count": null,
      "id": "c5a08559",
      "metadata": {
        "id": "c5a08559"
      },
      "outputs": [],
      "source": [
        "[purepixels,bands]=eea.eea.PPI(img_2d,10,10)"
      ]
    },
    {
      "cell_type": "code",
      "execution_count": null,
      "id": "d0f61186",
      "metadata": {
        "id": "d0f61186"
      },
      "outputs": [],
      "source": [
        "bands"
      ]
    },
    {
      "cell_type": "markdown",
      "id": "b5429caa",
      "metadata": {
        "id": "b5429caa"
      },
      "source": [
        "# WAVELENGTH EXTRACTION OF PPI"
      ]
    },
    {
      "cell_type": "code",
      "execution_count": null,
      "id": "682b714e",
      "metadata": {
        "id": "682b714e"
      },
      "outputs": [],
      "source": [
        "file_path = 'spectral file'"
      ]
    },
    {
      "cell_type": "code",
      "execution_count": null,
      "id": "4cb1cf86",
      "metadata": {
        "id": "4cb1cf86"
      },
      "outputs": [],
      "source": [
        "column_names =['wavelength_center_position','fwhm_equivalent_gaussian','Uncertainty in wavelength center position',\n",
        "                           'Uncertainty in FWHM for equivalent gaussian',\n",
        "                           'channel_number']"
      ]
    },
    {
      "cell_type": "code",
      "execution_count": null,
      "id": "5435bddf",
      "metadata": {
        "id": "5435bddf"
      },
      "outputs": [],
      "source": [
        "df_wav_ppi = pd.read_csv(file_path, delimiter='\\t', header=None, names=column_names)"
      ]
    },
    {
      "cell_type": "code",
      "execution_count": null,
      "id": "af580f76",
      "metadata": {
        "id": "af580f76"
      },
      "outputs": [],
      "source": [
        "wavelength=[]\n",
        "wavelength = df_wav_ppi.wavelength_center_position"
      ]
    },
    {
      "cell_type": "code",
      "execution_count": null,
      "id": "0bc726d3",
      "metadata": {
        "id": "0bc726d3"
      },
      "outputs": [],
      "source": [
        "len(wavelength)"
      ]
    },
    {
      "cell_type": "code",
      "execution_count": null,
      "id": "48dc8351",
      "metadata": {
        "id": "48dc8351"
      },
      "outputs": [],
      "source": [
        "wavelength[:10]"
      ]
    },
    {
      "cell_type": "code",
      "execution_count": null,
      "id": "c9a45d90",
      "metadata": {
        "id": "c9a45d90"
      },
      "outputs": [],
      "source": [
        "max_ppi,min_ppi=max(wavelength),min(wavelength)"
      ]
    },
    {
      "cell_type": "code",
      "execution_count": null,
      "id": "6439011f",
      "metadata": {
        "id": "6439011f"
      },
      "outputs": [],
      "source": [
        "print(max_ppi)\n",
        "print(min_ppi)"
      ]
    },
    {
      "cell_type": "code",
      "execution_count": null,
      "id": "44d48119",
      "metadata": {
        "id": "44d48119"
      },
      "outputs": [],
      "source": [
        "ppi_wavelen=[]\n",
        "for wave in wavelength:\n",
        "    we=float(round(wave))\n",
        "    ppi_wavelen.append(we)\n",
        "wave_spec= pd.DataFrame({'wavelength':ppi_wavelen})"
      ]
    },
    {
      "cell_type": "markdown",
      "id": "ca76555d",
      "metadata": {
        "id": "ca76555d"
      },
      "source": [
        "# PPI DATAFRAME"
      ]
    },
    {
      "cell_type": "code",
      "execution_count": null,
      "id": "c3d0dbc1",
      "metadata": {
        "id": "c3d0dbc1"
      },
      "outputs": [],
      "source": [
        "bands"
      ]
    },
    {
      "cell_type": "code",
      "execution_count": null,
      "id": "4676b91f",
      "metadata": {
        "id": "4676b91f"
      },
      "outputs": [],
      "source": [
        "def read_and_process_file(file_path, wave_spec):\n",
        "    data = []\n",
        "    with open(file_path, 'r') as file:\n",
        "        for line in file:\n",
        "            if line.strip():  # Check if the line is not empty\n",
        "                if \"Name: \" in line:\n",
        "                    name_value = line.split(\"Name: \")[1].strip()\n",
        "                elif \"Class: \" in line:\n",
        "                    class_value = line.split(\"Class: \")[1].strip()\n",
        "                elif len(line.split()) == 2 and all(value.replace('.', '').isdigit() for value in line.split()):\n",
        "                    # Check if the line has two elements and both are numeric\n",
        "                    data.append([float(value) for value in line.split()])\n",
        "\n",
        "    df = pd.DataFrame(data, columns=['wavelength', f'reflectance#{class_value}#{name_value}'])\n",
        "    df['wavelength'] = pd.to_numeric(df['wavelength'], errors='coerce') * 1000\n",
        "    df[f'reflectance#{class_value}#{name_value}'] = pd.to_numeric(df[f'reflectance#{class_value}#{name_value}'], errors='coerce')\n",
        "    return df[df['wavelength'].isin(wave_spec['wavelength']) == True]\n"
      ]
    },
    {
      "cell_type": "code",
      "execution_count": null,
      "id": "cb27ae6f",
      "metadata": {
        "id": "cb27ae6f"
      },
      "outputs": [],
      "source": [
        "def merge_files_into_dataframe(directory, wave_spec):\n",
        "    dfs = pd.DataFrame({'wavelength': wave_spec['wavelength']})\n",
        "\n",
        "    for filename in os.listdir(directory):\n",
        "        if filename.endswith('.spectrum.txt'):\n",
        "            file_path = os.path.join(directory, filename)\n",
        "            df = read_and_process_file(file_path, wave_spec)\n",
        "            dfs = pd.merge(dfs, df, on='wavelength', how='left')\n",
        "\n",
        "    return dfs"
      ]
    },
    {
      "cell_type": "code",
      "execution_count": null,
      "id": "0b1b7879",
      "metadata": {
        "id": "0b1b7879"
      },
      "outputs": [],
      "source": [
        "directory = 'spectral library'\n",
        "result_dataframe = merge_files_into_dataframe(directory, wave_spec)\n",
        "print(result_dataframe)"
      ]
    },
    {
      "cell_type": "code",
      "execution_count": null,
      "id": "502e29fd",
      "metadata": {
        "id": "502e29fd"
      },
      "outputs": [],
      "source": [
        "df_transposed = result_dataframe.transpose().reset_index()\n",
        "df_transposed.set_axis(df_transposed.iloc[0], axis=1, inplace=True)\n",
        "df_transposed = df_transposed[1:]\n",
        "df_transposed[['value', 'class', 'sub - class']] = df_transposed['wavelength'].str.split(\"#\",expand=True)\n",
        "\n",
        "columns_to_drop = ['value', 'wavelength']\n",
        "df_transposed = df_transposed.drop(columns=columns_to_drop)\n",
        "\n",
        "filtered_columns = df_transposed.columns[df_transposed.notnull().all()]\n",
        "filtered_df = df_transposed[filtered_columns]\n",
        "\n",
        "col=list(filtered_df.columns)[:-2]\n",
        "\n",
        "filtered_df['class'].value_counts()"
      ]
    },
    {
      "cell_type": "code",
      "execution_count": null,
      "id": "ca571e6e",
      "metadata": {
        "id": "ca571e6e"
      },
      "outputs": [],
      "source": [
        "filtered_df.head()"
      ]
    },
    {
      "cell_type": "code",
      "execution_count": null,
      "id": "c9fa3582",
      "metadata": {
        "id": "c9fa3582"
      },
      "outputs": [],
      "source": [
        "row_indices_to_print = list(bands) # list of ppi bands\n",
        "\n",
        "specific_rows = img_2d[row_indices_to_print,:]\n",
        "\n",
        "df_pppi = pd.DataFrame(specific_rows.T, columns=row_indices_to_print)\n",
        "\n",
        "df_pppi.insert(0, 'wavelength', ppi_wavelen) #inserting the purepixel wavelengths\n",
        "\n",
        "selected_df2 = df_pppi[df_pppi['wavelength'].isin(col)]\n",
        "\n",
        "selecteddf_t=selected_df2.T\n",
        "selecteddf_t.set_axis(selecteddf_t.iloc[0], axis=1, inplace=True)\n",
        "selecteddf_t= selecteddf_t[1:]\n",
        "\n",
        "selecteddf_t"
      ]
    },
    {
      "cell_type": "markdown",
      "id": "3d162a01",
      "metadata": {
        "id": "3d162a01"
      },
      "source": [
        "# SPECTRAL LIBRARY DATAFRAME"
      ]
    },
    {
      "cell_type": "code",
      "execution_count": null,
      "id": "88d479ca",
      "metadata": {
        "id": "88d479ca"
      },
      "outputs": [],
      "source": [
        "def spectral_angle_mapper(spectrum1,spectrum2):\n",
        "\n",
        "    num = np.dot(spectrum1, spectrum2)\n",
        "\n",
        "        # Calculate the sum of squares separately for each array\n",
        "    sum_of_squares_array1 = np.sum(spectrum1 ** 2)\n",
        "    sum_of_squares_array2 = np.sum(spectrum2 ** 2)\n",
        "\n",
        "    # Take the product of the sums of squares\n",
        "    product_of_sums_of_squares = sum_of_squares_array1 * sum_of_squares_array2\n",
        "\n",
        "    # Calculate the square root of the product\n",
        "    denom = np.sqrt(product_of_sums_of_squares)\n",
        "    arccosine_value = np.arccos(num/denom)\n",
        "\n",
        "     # Assign the result to the variable 'sam'\n",
        "    sam = arccosine_value\n",
        "\n",
        "    return sam"
      ]
    },
    {
      "cell_type": "code",
      "execution_count": null,
      "id": "a4adf207",
      "metadata": {
        "id": "a4adf207"
      },
      "outputs": [],
      "source": [
        "sam = spectral_angle_mapper(filtered_df.iloc[1, :85].values,selecteddf_t.iloc[1,:].values )"
      ]
    },
    {
      "cell_type": "code",
      "execution_count": null,
      "id": "04541d99",
      "metadata": {
        "id": "04541d99"
      },
      "outputs": [],
      "source": [
        "sam"
      ]
    },
    {
      "cell_type": "code",
      "execution_count": null,
      "id": "540a59be",
      "metadata": {
        "id": "540a59be"
      },
      "outputs": [],
      "source": [
        "import pandas as pd\n",
        "\n",
        "result_df = pd.DataFrame()\n",
        "\n",
        "for index1, row1 in selecteddf_t.iterrows():\n",
        "\n",
        "    for index2, row2 in filtered_df.iterrows():\n",
        "\n",
        "print(result_df)\n"
      ]
    },
    {
      "cell_type": "code",
      "execution_count": null,
      "id": "34e0c764",
      "metadata": {
        "id": "34e0c764"
      },
      "outputs": [],
      "source": [
        "\n",
        "num_rows_df1 = len(selecteddf_t)\n",
        "num_rows_df2 = len(filtered_df)\n",
        "\n",
        "new_dataframe = pd.DataFrame(index=range(num_rows_df2))\n",
        "\n"
      ]
    },
    {
      "cell_type": "code",
      "execution_count": null,
      "id": "3a70afb7",
      "metadata": {
        "id": "3a70afb7",
        "outputId": "b2cc237c-a02f-4bc4-ff5b-9c5071629985"
      },
      "outputs": [
        {
          "data": {
            "text/html": [
              "<div>\n",
              "<style scoped>\n",
              "    .dataframe tbody tr th:only-of-type {\n",
              "        vertical-align: middle;\n",
              "    }\n",
              "\n",
              "    .dataframe tbody tr th {\n",
              "        vertical-align: top;\n",
              "    }\n",
              "\n",
              "    .dataframe thead th {\n",
              "        text-align: right;\n",
              "    }\n",
              "</style>\n",
              "<table border=\"1\" class=\"dataframe\">\n",
              "  <thead>\n",
              "    <tr style=\"text-align: right;\">\n",
              "      <th></th>\n",
              "    </tr>\n",
              "  </thead>\n",
              "  <tbody>\n",
              "    <tr>\n",
              "      <th>0</th>\n",
              "    </tr>\n",
              "    <tr>\n",
              "      <th>1</th>\n",
              "    </tr>\n",
              "    <tr>\n",
              "      <th>2</th>\n",
              "    </tr>\n",
              "    <tr>\n",
              "      <th>3</th>\n",
              "    </tr>\n",
              "    <tr>\n",
              "      <th>4</th>\n",
              "    </tr>\n",
              "  </tbody>\n",
              "</table>\n",
              "</div>"
            ],
            "text/plain": [
              "Empty DataFrame\n",
              "Columns: []\n",
              "Index: [0, 1, 2, 3, 4]"
            ]
          },
          "execution_count": 65,
          "metadata": {},
          "output_type": "execute_result"
        }
      ],
      "source": [
        "new_dataframe.head()"
      ]
    },
    {
      "cell_type": "code",
      "execution_count": null,
      "id": "fd4f65f1",
      "metadata": {
        "id": "fd4f65f1"
      },
      "outputs": [],
      "source": [
        "for index1, row1 in selecteddf_t.iterrows():\n",
        "\n",
        "    for index2, row2 in filtered_df.iterrows():\n",
        "\n",
        "            sam = spectral_angle_mapper(row2[:85].values, row1.values)\n",
        "\n",
        "            new_dataframe.at[index2, index1] = sam"
      ]
    },
    {
      "cell_type": "code",
      "execution_count": null,
      "id": "6235a0b8",
      "metadata": {
        "id": "6235a0b8"
      },
      "outputs": [],
      "source": [
        "new_dataframe=new_dataframe[1:]"
      ]
    },
    {
      "cell_type": "code",
      "execution_count": null,
      "id": "e15debca",
      "metadata": {
        "id": "e15debca"
      },
      "outputs": [],
      "source": [
        "new_dataframe.shape"
      ]
    },
    {
      "cell_type": "code",
      "execution_count": null,
      "id": "5dcf7ebe",
      "metadata": {
        "id": "5dcf7ebe"
      },
      "outputs": [],
      "source": [
        "new_dataframe['mineral'] = filtered_df['class'].astype(str) + \" _ \" + filtered_df['sub - class'].astype(str)"
      ]
    },
    {
      "cell_type": "code",
      "execution_count": null,
      "id": "287a63b2",
      "metadata": {
        "id": "287a63b2"
      },
      "outputs": [],
      "source": [
        "result= new_dataframe.T\n",
        "result.columns = result.loc['mineral']\n",
        "result = result.drop('mineral')\n"
      ]
    },
    {
      "cell_type": "code",
      "execution_count": null,
      "id": "ea0098d6",
      "metadata": {
        "id": "ea0098d6"
      },
      "outputs": [],
      "source": [
        "result.head()"
      ]
    },
    {
      "cell_type": "code",
      "execution_count": null,
      "id": "a6092302",
      "metadata": {
        "id": "a6092302"
      },
      "outputs": [],
      "source": [
        "result_numeric = result.apply(pd.to_numeric, errors='coerce')\n",
        "\n",
        "result['classification'] = result_numeric.idxmin(axis=1)\n",
        "\n",
        "result['min_value'] = result_numeric.min(axis=1)"
      ]
    },
    {
      "cell_type": "code",
      "execution_count": null,
      "id": "402e5cb4",
      "metadata": {
        "id": "402e5cb4"
      },
      "outputs": [],
      "source": [
        "result"
      ]
    },
    {
      "cell_type": "code",
      "execution_count": null,
      "id": "9712d336",
      "metadata": {
        "id": "9712d336"
      },
      "outputs": [],
      "source": []
    }
  ],
  "metadata": {
    "kernelspec": {
      "display_name": "Python 3 (ipykernel)",
      "language": "python",
      "name": "python3"
    },
    "language_info": {
      "codemirror_mode": {
        "name": "ipython",
        "version": 3
      },
      "file_extension": ".py",
      "mimetype": "text/x-python",
      "name": "python",
      "nbconvert_exporter": "python",
      "pygments_lexer": "ipython3",
      "version": "3.11.4"
    },
    "colab": {
      "provenance": []
    }
  },
  "nbformat": 4,
  "nbformat_minor": 5
}